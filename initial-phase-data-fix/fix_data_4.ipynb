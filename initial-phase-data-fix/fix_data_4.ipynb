{
 "cells": [
  {
   "metadata": {
    "ExecuteTime": {
     "end_time": "2024-11-04T15:11:34.783497Z",
     "start_time": "2024-11-04T15:11:28.414792Z"
    }
   },
   "cell_type": "code",
   "source": "",
   "id": "c606a9c5bfc31983",
   "outputs": [
    {
     "name": "stderr",
     "output_type": "stream",
     "text": [
      "/tmp/ipykernel_7872/2715962084.py:8: DtypeWarning: Columns (9) have mixed types. Specify dtype option on import or set low_memory=False.\n",
      "  df = pd.read_csv(file_path)\n"
     ]
    },
    {
     "name": "stdout",
     "output_type": "stream",
     "text": [
      "RESULTADO\n",
      "1                298850\n",
      "2                224507\n",
      "3                174843\n",
      "4                142091\n",
      "5                 34343\n",
      "nan                2345\n",
      "6                   308\n",
      "promocionoull        11\n",
      "abandonoull           3\n",
      "Name: count, dtype: int64\n"
     ]
    }
   ],
   "execution_count": 6
  },
  {
   "metadata": {
    "ExecuteTime": {
     "end_time": "2024-11-04T15:20:56.069073Z",
     "start_time": "2024-11-04T15:20:48.971690Z"
    }
   },
   "cell_type": "code",
   "source": [
    "import pandas as pd\n",
    "import re\n",
    "\n",
    "# Ruta del archivo\n",
    "file_path = '../data-private/CURSADA_HISTORICA_03.csv'\n",
    "\n",
    "# Cargar el archivo CSV\n",
    "df = pd.read_csv(file_path)\n",
    "\n",
    "# Renombrar columnas\n",
    "column_mapping = {\n",
    "    'ID': 'ID',\n",
    "    'COD_CARRERA': 'COD_CARRERA',\n",
    "    'NOM_CARRERA': 'NOM_CARRERA',\n",
    "    'ANIO': 'ANIO',\n",
    "    'CUATRIMESTRE': 'CUATRIMESTRE',\n",
    "    'COD_MATERIA': 'COD_MATERIA',\n",
    "    'NOM_MATERIA': 'NOM_MATERIA',\n",
    "    'COD_NOSE': 'NRO_ACTA',\n",
    "    'COD_NOSE_2': 'ORIGEN',\n",
    "    'NOTA': 'NOTA',\n",
    "    'FECHA_1': 'FECHA',\n",
    "    'FECHA_2': 'FECHA_VIGENCIA',\n",
    "    'RESULTADO': 'RESULTADO'\n",
    "}\n",
    "df.rename(columns=column_mapping, inplace=True)\n",
    "\n",
    "# Eliminar el carácter '' de todos los campos de todas las filas\n",
    "df.replace(to_replace=r'', value='', regex=True, inplace=True)\n",
    "\n",
    "# Diccionario de mapeo de valores\n",
    "resultado_mapping = {\n",
    "    'regular': 1,\n",
    "    'promociono': 2,\n",
    "    'abandono': 3,\n",
    "    'libre': 4,\n",
    "    'insuficiente': 5,\n",
    "    'nopromociono': 6\n",
    "}\n",
    "\n",
    "# Expresiones regulares para detectar variaciones comunes de los valores en \"RESULTADO\"\n",
    "regex_patterns = {\n",
    "    'regular': r'regular',\n",
    "    'promociono': r'promocion(o|oull|a)?',\n",
    "    'abandono': r'abandon(o|oull|a)?',\n",
    "    'libre': r'libre',\n",
    "    'insuficiente': r'insuficiente',\n",
    "    'nopromociono': r'no\\s*promocion(o|oull|a)?'\n",
    "}\n",
    "\n",
    "# Función para limpiar y mapear valores en la columna 'RESULTADO'\n",
    "def clean_and_map_resultado(value):\n",
    "    # Convertir a string y eliminar números y caracteres especiales\n",
    "    cleaned_value = re.sub(r'[^a-zA-Z]', '', str(value)).strip().lower()\n",
    "\n",
    "    # Buscar coincidencia en las expresiones regulares\n",
    "    for key, pattern in regex_patterns.items():\n",
    "        if re.fullmatch(pattern, cleaned_value):\n",
    "            return resultado_mapping[key]\n",
    "\n",
    "    # Si no coincide, mantener el valor original\n",
    "    return cleaned_value\n",
    "\n",
    "# Aplicar la función de limpieza y mapeo en la columna 'RESULTADO'\n",
    "df['RESULTADO'] = df['RESULTADO'].apply(clean_and_map_resultado)\n",
    "\n",
    "# Eliminar filas con NaN en la columna 'RESULTADO'\n",
    "df.dropna(subset=['RESULTADO'], inplace=True)\n",
    "\n",
    "# Guardar el DataFrame modificado en un nuevo archivo CSV\n",
    "df.to_csv('../data-private/CURSADA_HISTORICA_04.csv', index=False)\n"
   ],
   "id": "7bca4e2e45016e3b",
   "outputs": [
    {
     "name": "stderr",
     "output_type": "stream",
     "text": [
      "/tmp/ipykernel_7872/661456678.py:8: DtypeWarning: Columns (9) have mixed types. Specify dtype option on import or set low_memory=False.\n",
      "  df = pd.read_csv(file_path)\n"
     ]
    }
   ],
   "execution_count": 9
  },
  {
   "metadata": {},
   "cell_type": "code",
   "outputs": [],
   "execution_count": null,
   "source": "",
   "id": "e6e5dc0dc265c76c"
  }
 ],
 "metadata": {
  "kernelspec": {
   "display_name": "Python 3",
   "language": "python",
   "name": "python3"
  },
  "language_info": {
   "codemirror_mode": {
    "name": "ipython",
    "version": 2
   },
   "file_extension": ".py",
   "mimetype": "text/x-python",
   "name": "python",
   "nbconvert_exporter": "python",
   "pygments_lexer": "ipython2",
   "version": "2.7.6"
  }
 },
 "nbformat": 4,
 "nbformat_minor": 5
}
