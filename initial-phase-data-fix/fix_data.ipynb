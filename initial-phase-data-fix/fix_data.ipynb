{
 "cells": [
  {
   "metadata": {
    "ExecuteTime": {
     "end_time": "2024-10-13T21:56:01.006087Z",
     "start_time": "2024-10-13T21:55:50.564722Z"
    }
   },
   "cell_type": "code",
   "source": [
    "import csv\n",
    "import unicodedata\n",
    "\n",
    "# Function to replace '{' with '|'\n",
    "def replace_braces_with_pipe(text):\n",
    "    return text.replace('{', '|')\n",
    "\n",
    "# Function to remove Latin special characters\n",
    "def remove_special_characters(text):\n",
    "    # Normalize the text to separate accents and special characters\n",
    "    normalized = unicodedata.normalize('NFKD', text)\n",
    "    return ''.join([c for c in normalized if not unicodedata.combining(c)])\n",
    "\n",
    "# Function to process the input text file\n",
    "def process_file(input_file, output_file):\n",
    "    with open(input_file, 'r', encoding='ISO-8859-1') as file:\n",
    "        rows = []\n",
    "        for line in file:\n",
    "            # Replace '{' with '|'\n",
    "            line = replace_braces_with_pipe(line)\n",
    "            # Remove special characters like ñ, á, etc.\n",
    "            clean_line = remove_special_characters(line.strip())\n",
    "            # Split by the | delimiter\n",
    "            fields = clean_line.split('|')\n",
    "\n",
    "            # First field is the ID, the rest come in sets of 12 fields\n",
    "            record_id = fields[0]\n",
    "            num_fields = 12  # Each record has 12 fields\n",
    "            for i in range(1, len(fields), num_fields):\n",
    "                record = [record_id] + fields[i:i + num_fields]\n",
    "                rows.append(record)\n",
    "\n",
    "    # Define the specific headers\n",
    "    headers = [\n",
    "        \"ID\", \"COD_CARRERA\", \"NOM_CARRERA\", \"ANIO\", \"CUATRIMESTRE\",\n",
    "        \"COD_MATERIA\", \"NOM_MATERIA\", \"COD_NOSE\", \"COD_NOSE_2\",\n",
    "        \"NOTA\", \"FECHA_1\", \"FECHA_2\", \"RESULTADO\"\n",
    "    ]\n",
    "\n",
    "    # Write the processed data to a CSV file\n",
    "    with open(output_file, 'w', newline='', encoding='utf-8') as csv_file:\n",
    "        writer = csv.writer(csv_file)\n",
    "        writer.writerow(headers)  # Write the header row\n",
    "        writer.writerows(rows)     # Write the processed rows\n",
    "\n",
    "# Example usage\n",
    "input_file = '../data-private/CURSADA_HISTORICA.txt'  # Replace with your actual input file path\n",
    "output_file = '../data-private/CURSADA_HISTORICA.csv'  # Replace with your desired output file path\n",
    "\n",
    "process_file(input_file, output_file)\n"
   ],
   "id": "47a70f7e396e57c2",
   "outputs": [],
   "execution_count": 1
  },
  {
   "metadata": {},
   "cell_type": "code",
   "outputs": [],
   "execution_count": null,
   "source": "",
   "id": "9b294186fac4ab7a"
  }
 ],
 "metadata": {
  "kernelspec": {
   "display_name": "Python 3",
   "language": "python",
   "name": "python3"
  },
  "language_info": {
   "codemirror_mode": {
    "name": "ipython",
    "version": 2
   },
   "file_extension": ".py",
   "mimetype": "text/x-python",
   "name": "python",
   "nbconvert_exporter": "python",
   "pygments_lexer": "ipython2",
   "version": "2.7.6"
  }
 },
 "nbformat": 4,
 "nbformat_minor": 5
}
