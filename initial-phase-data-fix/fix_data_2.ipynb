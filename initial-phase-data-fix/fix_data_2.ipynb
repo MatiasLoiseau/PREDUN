{
 "cells": [
  {
   "cell_type": "code",
   "id": "initial_id",
   "metadata": {
    "collapsed": true,
    "ExecuteTime": {
     "end_time": "2024-10-22T13:31:56.567769Z",
     "start_time": "2024-10-22T13:31:52.559312Z"
    }
   },
   "source": [
    "import pandas as pd\n",
    "\n",
    "# Función para leer el archivo CSV y eliminar filas donde el campo ID no es numérico\n",
    "def clean_csv(file_path):\n",
    "    # Leer el archivo CSV\n",
    "    df = pd.read_csv(file_path)\n",
    "\n",
    "    # Convertir la columna 'ID' a numérica, forzando errores a NaN (valores no numéricos)\n",
    "    df['ID'] = pd.to_numeric(df['ID'], errors='coerce')\n",
    "\n",
    "    # Eliminar filas donde 'ID' es NaN (no numérico)\n",
    "    df_cleaned = df.dropna(subset=['ID'])\n",
    "\n",
    "    # Guardar el archivo limpio en un nuevo CSV\n",
    "    df_cleaned.to_csv('../data-private/CURSADA_HISTORICA_02.csv', index=False)\n",
    "\n",
    "    return df_cleaned\n",
    "\n",
    "# Simulación de uso de la función con un archivo de ejemplo\n",
    "cleaned_data = clean_csv('../data-private/CURSADA_HISTORICA.csv')"
   ],
   "outputs": [
    {
     "name": "stderr",
     "output_type": "stream",
     "text": [
      "/tmp/ipykernel_10794/2348157638.py:6: DtypeWarning: Columns (0,3,7) have mixed types. Specify dtype option on import or set low_memory=False.\n",
      "  df = pd.read_csv(file_path)\n"
     ]
    }
   ],
   "execution_count": 1
  },
  {
   "metadata": {},
   "cell_type": "code",
   "outputs": [],
   "execution_count": null,
   "source": "",
   "id": "48cf4dd918544060"
  }
 ],
 "metadata": {
  "kernelspec": {
   "display_name": "Python 3",
   "language": "python",
   "name": "python3"
  },
  "language_info": {
   "codemirror_mode": {
    "name": "ipython",
    "version": 2
   },
   "file_extension": ".py",
   "mimetype": "text/x-python",
   "name": "python",
   "nbconvert_exporter": "python",
   "pygments_lexer": "ipython2",
   "version": "2.7.6"
  }
 },
 "nbformat": 4,
 "nbformat_minor": 5
}
